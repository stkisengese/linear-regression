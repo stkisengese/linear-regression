{
 "cells": [
  {
   "cell_type": "code",
   "execution_count": 1,
   "id": "1479c3ce-9bac-4936-b147-8cf70f98adc5",
   "metadata": {},
   "outputs": [],
   "source": [
    "# Exercise 4: Forecast Diabetes Progression"
   ]
  },
  {
   "cell_type": "code",
   "execution_count": 2,
   "id": "b22413d2-0d5c-42cf-bd0b-c9cf1b3bbc30",
   "metadata": {},
   "outputs": [],
   "source": [
    "from sklearn.datasets import load_diabetes\n",
    "from sklearn.model_selection import train_test_split\n",
    "from sklearn.linear_model import LinearRegression\n",
    "from sklearn.metrics import mean_squared_error"
   ]
  },
  {
   "cell_type": "code",
   "execution_count": 9,
   "id": "ec52b293-519a-4c85-8ed9-3119c50f93f6",
   "metadata": {},
   "outputs": [
    {
     "name": "stdout",
     "output_type": "stream",
     "text": [
      "[202.  55. 202.  42. 214. 173. 118.  90. 129. 151.]\n",
      "[ 71.  72. 235. 277. 109.  61. 109.  78.  66. 192.]\n",
      "Coefficients: [ -60.39984809 -226.08359044  529.38495719  259.96199412 -859.09300933\n",
      "  504.68697339  157.41085788  226.29313436  840.7840406    34.71226556]\n",
      "Intercept: 152.0532454782767\n"
     ]
    }
   ],
   "source": [
    "# Load dataset\n",
    "diabetes = load_diabetes(as_frame=True)\n",
    "X, y = diabetes.data, diabetes.target\n",
    "\n",
    "# Train/test split (20% test, reproducible with random_state=43)\n",
    "X_train, X_test, y_train, y_test = train_test_split(\n",
    "    X, y, test_size=0.2, random_state=43\n",
    ")\n",
    "print(y_train.values[:10])\n",
    "print(y_test.values[:10])\n",
    "\n",
    "# fit the model\n",
    "model = LinearRegression()\n",
    "model.fit(X_train, y_train)\n",
    "\n",
    "# Coefficients + intercept\n",
    "print(\"Coefficients:\", model.coef_)\n",
    "print(\"Intercept:\", model.intercept_)\n"
   ]
  },
  {
   "cell_type": "code",
   "execution_count": 6,
   "id": "3aa6c875-ab08-40f7-9199-ba5e05ab03ec",
   "metadata": {},
   "outputs": [
    {
     "name": "stdout",
     "output_type": "stream",
     "text": [
      "\n",
      "Equation: y = -60.40*x0 + -226.08*x1 + 529.38*x2 + 259.96*x3 + -859.09*x4 + 504.69*x5 + 157.41*x6 + 226.29*x7 + 840.78*x8 + 34.71*x9 + 152.05\n"
     ]
    }
   ],
   "source": [
    "print(\"\\nEquation: y = \", end=\"\")\n",
    "for i, coef in enumerate(model.coef_):\n",
    "    print(f\"{coef:.2f}*x{i} + \", end=\"\")\n",
    "print(f\"{model.intercept_:.2f}\")"
   ]
  },
  {
   "cell_type": "code",
   "execution_count": 10,
   "id": "6489f412-ca15-4428-ad5f-10cd5912f7fd",
   "metadata": {},
   "outputs": [],
   "source": [
    "# predict\n",
    "y_pred_train = model.predict(X_train)\n",
    "y_pred_test = model.predict(X_test)"
   ]
  },
  {
   "cell_type": "code",
   "execution_count": 12,
   "id": "2cabd27b-51f8-4503-94da-faf180ea00ed",
   "metadata": {},
   "outputs": [
    {
     "data": {
      "text/plain": [
       "array([111.74267934,  98.41608992, 168.36714629, 255.06351455,\n",
       "       168.44138847, 117.60698984, 198.8733865 , 126.2932775 ,\n",
       "       117.72876579, 224.82776308])"
      ]
     },
     "execution_count": 12,
     "metadata": {},
     "output_type": "execute_result"
    }
   ],
   "source": [
    "y_pred_test[:10]"
   ]
  },
  {
   "cell_type": "code",
   "execution_count": 13,
   "id": "b7e6ac02-4d0b-46ca-9775-c8d6ceca42c0",
   "metadata": {},
   "outputs": [
    {
     "data": {
      "text/plain": [
       "array([187.67334478,  82.59863209, 146.14097772,  78.79078165,\n",
       "       125.42500787, 196.43406475, 147.36306952, 112.3267114 ,\n",
       "       160.39224709, 205.76805308])"
      ]
     },
     "execution_count": 13,
     "metadata": {},
     "output_type": "execute_result"
    }
   ],
   "source": [
    "y_pred_train[:10]"
   ]
  },
  {
   "cell_type": "code",
   "execution_count": null,
   "id": "e29e490d-4e16-4dfe-a340-133c9fdd1411",
   "metadata": {},
   "outputs": [],
   "source": []
  }
 ],
 "metadata": {
  "kernelspec": {
   "display_name": "Python 3 (ipykernel)",
   "language": "python",
   "name": "python3"
  },
  "language_info": {
   "codemirror_mode": {
    "name": "ipython",
    "version": 3
   },
   "file_extension": ".py",
   "mimetype": "text/x-python",
   "name": "python",
   "nbconvert_exporter": "python",
   "pygments_lexer": "ipython3",
   "version": "3.12.11"
  }
 },
 "nbformat": 4,
 "nbformat_minor": 5
}
