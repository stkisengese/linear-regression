{
 "cells": [
  {
   "cell_type": "code",
   "execution_count": 1,
   "id": "4b4ab8e7-86cb-4be2-9161-36b426924ec0",
   "metadata": {},
   "outputs": [],
   "source": [
    "# Exercise 1: scikit-learn stimator"
   ]
  },
  {
   "cell_type": "code",
   "execution_count": 2,
   "id": "dc45c993-d9be-40df-b1a1-3706c68561bb",
   "metadata": {},
   "outputs": [
    {
     "name": "stdout",
     "output_type": "stream",
     "text": [
      "Coefficients: [[0.99667774]]\n",
      "Intercept: [-0.02657807]\n",
      "Score: 0.9966777408637874\n",
      "Prediction for x=4: 3.960132890365449\n"
     ]
    }
   ],
   "source": [
    "from sklearn.linear_model import LinearRegression\n",
    "\n",
    "# Data\n",
    "X, y = [[1], [2.1], [3]], [[1], [2], [3]]\n",
    "\n",
    "# Create and fit the model\n",
    "model = LinearRegression()\n",
    "model.fit(X, y)\n",
    "\n",
    "# Predict\n",
    "x_pred = [[4]]\n",
    "y_pred = model.predict(x_pred)\n",
    "\n",
    "# Print results\n",
    "print(f\"Coefficients: {model.coef_}\")\n",
    "print(f\"Intercept: {model.intercept_}\")\n",
    "print(f\"Score: {model.score(X, y)}\")\n",
    "print(f\"Prediction for x=4: {y_pred[0][0]}\")"
   ]
  },
  {
   "cell_type": "code",
   "execution_count": null,
   "id": "d6d3c53d-fbc4-401d-82ce-94fa6cd48e7f",
   "metadata": {},
   "outputs": [],
   "source": []
  }
 ],
 "metadata": {
  "kernelspec": {
   "display_name": "Python 3 (ipykernel)",
   "language": "python",
   "name": "python3"
  },
  "language_info": {
   "codemirror_mode": {
    "name": "ipython",
    "version": 3
   },
   "file_extension": ".py",
   "mimetype": "text/x-python",
   "name": "python",
   "nbconvert_exporter": "python",
   "pygments_lexer": "ipython3",
   "version": "3.12.11"
  }
 },
 "nbformat": 4,
 "nbformat_minor": 5
}
